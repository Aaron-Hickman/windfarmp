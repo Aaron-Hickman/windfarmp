{
 "cells": [
  {
   "cell_type": "code",
   "execution_count": null,
   "metadata": {},
   "outputs": [],
   "source": [
    "import scipy.special as sp\n",
    "import numpy as np\n",
    "import matplotlib.pyplot as plt\n",
    "import pandas as pd\n",
    "from scipy.optimize import minimize,least_squares,Bounds\n",
    "from scipy.special import gamma\n",
    "import matplotlib.cm as cm\n",
    "from Boruvka_Mod import Graph\n",
    "import utm\n",
    "import scipy.interpolate as spline\n",
    "from mpl_toolkits.mplot3d import Axes3D"
   ]
  },
  {
   "cell_type": "code",
   "execution_count": null,
   "metadata": {},
   "outputs": [],
   "source": [
    "### Sets model parameters\n",
    "v0=8.0\n",
    "nwind = 33\n",
    "wind=np.arange(254,287)\n",
    "#b=np.array((1,5,1000))\n",
    "#b=np.array(( 1.40002561e-01,   8.51478121e+00,   2.62606729e+03))\n",
    "\n",
    "# 3 model parameters below:\n",
    "\n",
    "# 0th: how much power the turbine removes at the centre of the peak of the power distribution.\n",
    "        # UNITS: [N/A]\n",
    "# 1st: how wide the angle of effect is. UNITS: degrees\n",
    "# 2nd: up to how far back the effect takes place (approx. 2.6km) UNITS: [m]\n",
    "model=np.array((1.39998719e-01, 8.51483871e+00, 2.62613638e+03))\n",
    "\n",
    "ws=2.0 #weibull scale factor\n",
    "wei_gamma=gamma(1.+1./ws)\n",
    "\n",
    "Pr = 2*10**6 #Rated Power for Horns Rev 1 Turbines. Max power output [Watts]\n",
    "Vc = 4.0 #Cut-in Velocity. Starts producing energy at wind speed of 4m/s [m/s]\n",
    "Vr = 15.0 #Rated Velocity. Starts producing max energy at 15m/s\n",
    "Vf = 25.0 #Cut-off Velocity. Turbines cut out at wind speeds of 25m/s to prevent damage to the turbines.\n",
    "k = 2.0 #Weibull shape parameter\n",
    "(Pr,Vc,Vr,k)\n",
    "\n",
    "#interpolation parameters\n",
    "dvel=1.5 #[m/s]\n",
    "dang=5. #[degrees]"
   ]
  },
  {
   "cell_type": "code",
   "execution_count": null,
   "metadata": {},
   "outputs": [],
   "source": [
    "### (gives current position of the Horns Rev 1 wind turbines).\n",
    "\n",
    "v=np.loadtxt('hornsrev_data_all.txt') # assigns data to variable v.\n",
    "\n",
    "vxref=v[:,3] # (INDEXING STARTS FROM 0). Third column of data is velocity of wind in x direction.\n",
    "vyref=v[:,4] # (INDEXING STARTS FROM 0). Fourth column of data is velocity of wind in y direction.\n",
    "angles=v[:,0] # Zeroth column of data is wind angle.\n",
    "vmean=np.sqrt(np.square(vxref)+np.square(vyref)) # Uses pythagoras to find the wind magnitude + direction for each location.\n",
    "\n",
    "# print(vmean)\n",
    "vmean=pd.DataFrame(vmean) # organises vmean into labelled data structure\n",
    "# print(vmean)\n",
    "\n",
    "vref=pd.DataFrame()\n",
    "\n",
    "vmean['angle']=angles # add another column to vmean (angle)\n",
    "vref=vref.append(vmean) # add empty pandas data frame\n",
    "\n",
    "vref=vref.groupby('angle')\n",
    "vref.groups\n",
    "vref.describe()\n",
    "vref.get_group(260).iat[50,0] # data manipulation to group by angle etc.\n",
    "#vref.iat[5,0]\n",
    "#vref.groupby('angle')"
   ]
  },
  {
   "cell_type": "code",
   "execution_count": null,
   "metadata": {},
   "outputs": [],
   "source": [
    "### Imports, manipulates and displays coordinates of all turbines at Horns Rev 1.\n",
    "\n",
    "# in coords matrix the first index references the turbine, the second index references said coordinate's value (0=x, 1=y).\n",
    "\n",
    "coords_in = np.loadtxt('coords.txt')\n",
    "\n",
    "# CLARIFY WHAT THESE COORDS ARE WITH PRINT: LOWER LEFT COORDS BELOW: and print a gap between outputs\n",
    "\n",
    "print(min(coords_in[:,0]), min(coords_in[:,1])) # finds and displays most west and most south coordinates of turbines\n",
    "# (note: not necessarily 1 turbine that represemts x and y values, just finds reference frame for wind farm). \n",
    "\n",
    "# sets xmin and ymin to these lower left most coordinate values.\n",
    "xmin = min(coords_in[:,0])\n",
    "ymin = min(coords_in[:,1])\n",
    "\n",
    "# sets centre point halfway between the min and max coords:\n",
    "xzero = (max(coords_in[:,0])-xmin)/2\n",
    "yzero = (max(coords_in[:,1])-ymin)/2\n",
    "# print(xzero, yzero)\n",
    "\n",
    "# transforms coordinates so they're centred around the origin of the coordinates system:\n",
    "coords_x=coords_in[:,0]-xzero-xmin\n",
    "coords_y=coords_in[:,1]-yzero-ymin\n",
    "coords=[coords_x,coords_y]\n",
    "\n",
    "\n",
    "\n",
    "print (coords) # displays array of manipulated coordinates.\n",
    "\n",
    "\n",
    "coords=np.array(coords).T # transposes coordinates\n",
    "nturb=np.shape(coords)[0] # counts total number of turbines by  putting array into a tuple and counting entries.\n",
    "\n",
    "\n",
    "plt.scatter(coords[:,0], coords[:,1]) # plots turbines as a scatter plot (x,y).\n",
    "\n",
    "\n",
    "\n",
    "#Arrays for pairwise distances and angles\n",
    "#Angle 0: x direction. Angle pi/2: y directıon\n",
    "\n",
    "# calculates distance and angle between each pair of turbines:\n",
    "\n",
    "distance=np.zeros((nturb,nturb)) # 2x2 matrix of distances between turbines i and j where distance i-i and distance j-j = 0\n",
    "# as they're distances to themselves: i-i i-j\n",
    "                                 #    j-i j-j\n",
    "\n",
    "angle=np.zeros((nturb,nturb)) # same as above but for angles between turbines.\n",
    "for i in range(0,nturb):\n",
    "   \n",
    "    # 80x80 matrices as there's 80 turbines at Horns Rev 1.\n",
    "    \n",
    "    # squares y distance and x distance then sqrt to find overall distance between 2 turbines.\n",
    "    distance[i,:]=np.sqrt(np.square(coords[i,0]-coords[:,0])+np.square(coords[i,1]-coords[:,1]))\n",
    "    # same as above using arctan2 whilst giving correct quadrant (between 2 turbines).\n",
    "    angle[i,:]=np.arctan2(coords[:,1]-coords[i,1],coords[:,0]-coords[i,0])\n",
    "# Rotate angles so that north=0 and convert to degrees (and clockwise instead of anticlockwise)\n",
    "angle=-np.rad2deg(angle)+270\n",
    "angle[0,1]\n",
    "\n",
    "# Rotating angles to wind direction\n",
    "windangle=5 # degrees\n",
    "rotangles=np.mod(angle-windangle+180,360)-180\n",
    "\n",
    "# creates list of turbines with largest to shortest distances between them.\n",
    "(np.sort(distance))[0,2]"
   ]
  },
  {
   "cell_type": "code",
   "execution_count": null,
   "metadata": {},
   "outputs": [],
   "source": [
    "# imports wind direction (meteorological data where north = 0 degrees)\n",
    "import pandas as pd\n",
    "data = pd.read_csv ('Directiondata.csv')\n",
    "print (data)\n",
    "# velocity is the mean velocity with which wind from this direction blows\n",
    "# c determines how wide the distribution is\n",
    "# frequency/100 determines how often the wind is blowing at this angle"
   ]
  },
  {
   "cell_type": "code",
   "execution_count": null,
   "metadata": {},
   "outputs": [],
   "source": [
    "# could make comments here a markdown cell??\n",
    "\n",
    "# interpolate 'velocity'\n",
    "# info is only given every 30 degrees, giving a 'step function'\n",
    "# interpolation gives higher resolution\n",
    "# function is periodic as 360deg is the same as 0deg.\n",
    "x = data['Angle']\n",
    "y = data['Velocity']\n",
    "from scipy.interpolate import CubicSpline as SP\n",
    "import matplotlib.pyplot as plt\n",
    "wbvel = SP (x, y,bc_type='periodic')\n",
    "xs = np.arange(0, 360,0.10)\n",
    "plt.plot(x,y, label='Line')\n",
    "plt.plot(xs, wbvel(xs), label=\"Interpolated line \")\n",
    "plt.title('Interpolated Velocity Data')\n",
    "plt.xlabel('Angle')\n",
    "plt.ylabel('Velocity')\n",
    "plt.show()\n",
    "\n",
    "# blue lines shows linear interpolation, orange shows smooth interpolation including across the\n",
    "# periodic boundary."
   ]
  },
  {
   "cell_type": "code",
   "execution_count": null,
   "metadata": {},
   "outputs": [],
   "source": [
    "#interpolate 'c'\n",
    "# info is only given every 30 degrees, giving a 'step function'\n",
    "# interpolation gives higher resolution\n",
    "# function is periodic as 360deg is the same as 0deg.\n",
    "x = data['Angle']\n",
    "y = data['c']\n",
    "from scipy.interpolate import CubicSpline as SP\n",
    "import matplotlib.pyplot as plt\n",
    "wbshape = SP (x, y,bc_type='periodic')\n",
    "xs = np.arange(0, 360, 0.1)\n",
    "plt.plot(x,y)\n",
    "plt.plot(xs, wbshape(xs), label=\"S\")\n",
    "plt.title('Interpolated Shape Parameter Data')\n",
    "plt.xlabel('Angle')\n",
    "plt.ylabel('Shape Parameter')\n",
    "plt.show()"
   ]
  },
  {
   "cell_type": "code",
   "execution_count": null,
   "metadata": {},
   "outputs": [],
   "source": [
    "#interpolate 'frequency'\n",
    "# info is only given every 30 degrees, giving a 'step function'\n",
    "# interpolation gives higher resolution\n",
    "# function is periodic as 360deg is the same as 0deg.\n",
    "x = data['Angle']\n",
    "y = data['frequency']/(100.*30.) #Data is in percent per 30 degrees, changing to probability per degree\n",
    "from scipy.interpolate import CubicSpline as SP\n",
    "import matplotlib.pyplot as plt\n",
    "windfreq = SP (x, y,bc_type='periodic')\n",
    "xs = np.arange(0, 360, 0.1)\n",
    "plt.plot(x,y)\n",
    "plt.plot(xs, windfreq(xs), label=\"S\")\n",
    "plt.title('Interpolated Probability Data')\n",
    "plt.xlabel('Angle')\n",
    "plt.ylabel('Probability')\n",
    "plt.show()\n",
    "# plot shows wind direction is predominantly 200-320deg."
   ]
  },
  {
   "cell_type": "code",
   "execution_count": null,
   "metadata": {},
   "outputs": [],
   "source": [
    "# Simple Attenuation fn\n",
    "# Determines how much wind there is AFTER a turbine.\n",
    "def att(dist, ang, model): \n",
    "        # 'Model' parameters are defined in 2ND CELL.\n",
    "\n",
    "    # angular part\n",
    "    angular=np.where(2.*model[1]*np.abs(ang)<np.pi,np.square(np.cos(model[1]*ang)),0.)\n",
    "    # angular = np.cos(model[1]*ang WHEN 2.*model[1]*np.abs(ang) is less than pi, else angular = 0.\n",
    "    \n",
    "    # radial part (distance) (Gaussian Function)\n",
    "    radial=np.exp(-np.square(dist/model[2])) # decreasing exponential of square, scaled by 2nd parameter\n",
    "    \n",
    "    #penalty=np.exp(-np.square(dist/200))\n",
    "    penalty = 0\n",
    "    return 1.0-1*model[0]*angular*radial-2*model[0]*penalty # OUTCOME"
   ]
  },
  {
   "cell_type": "code",
   "execution_count": null,
   "metadata": {},
   "outputs": [],
   "source": [
    "\n",
    "azimuths = np.radians(np.linspace(0, 360, 360)) # angles theta from 0 to 360 degress in 1 degree increments. Grid\n",
    "zeniths = np.arange(0, 4000, 50) # distance from 0 to 4000 broken up into increments of 50.\n",
    "\n",
    "r, theta = np.meshgrid(zeniths, azimuths)\n",
    "values = att(r,np.mod(theta+np.pi,np.pi*2)-np.pi,model) # gets angles from -pi to pi, not from 0 to 2pi.\n",
    "\n",
    "#print(values)\n",
    "#-- Plot... ------------------------------------------------\n",
    "fig, ax = plt.subplots(subplot_kw=dict(projection='polar'))\n",
    "ax.contourf(theta, r, np.maximum(values,0.85*np.ones(np.shape(values))))\n",
    "\n",
    "plt.show()\n",
    "print(np.min(values))\n",
    "\n",
    "## Markdown cell description:\n",
    "# Polar plot is for 1 turbine, blue area shows where wind speed is affected. (Numbers label distance from turbine).\n",
    "# Across the curve the distribution is the hump of cosine^2 function.\n",
    "# Radially the distribution shown is Gaussian.\n",
    "# wake is too narrow close to the turbine as it treats the turbine as a point rather than accommodating\n",
    "# for the blades' diameter."
   ]
  },
  {
   "cell_type": "code",
   "execution_count": null,
   "metadata": {},
   "outputs": [],
   "source": [
    "# print(theta,np.mod(np.deg2rad(theta)+np.pi,np.pi*2)-np.pi)"
   ]
  },
  {
   "cell_type": "code",
   "execution_count": null,
   "metadata": {},
   "outputs": [],
   "source": [
    "# r=np.arange"
   ]
  },
  {
   "cell_type": "code",
   "execution_count": null,
   "metadata": {},
   "outputs": [],
   "source": [
    "# ind=np.zeros((8,10))\n",
    "# for i in range(0,8):\n",
    "#     for j in range(0,10):\n",
    "#         ind[i,j]=i+8*j\n",
    "# ind=ind.astype(int)\n",
    "# ind"
   ]
  },
  {
   "cell_type": "code",
   "execution_count": null,
   "metadata": {},
   "outputs": [],
   "source": [
    "# i=0\n",
    "# j=4\n",
    "# print('Turbine {} x {} y {}'.format(i,coords[i,0],coords[i,1]))\n",
    "# print('Turbine {} x {} y {}'.format(j,coords[j,0],coords[j,1]))\n",
    "# print('{}-{} dist {} angle {}'.format(i,j,distance[i,j], angle[i,j]))"
   ]
  },
  {
   "cell_type": "code",
   "execution_count": null,
   "metadata": {},
   "outputs": [],
   "source": [
    "# isn't useful for continuing code, just rotates the windfarm.\n",
    "def rotate(angle,coords):\n",
    "    angle = np.pi*angle/180.\n",
    "    rotcoordx = []\n",
    "    rotcoordy = []\n",
    "    for coord in coords:\n",
    "        rotcoordx+=[coord[0]*np.cos(angle)-coord[1]*np.sin(angle)]\n",
    "        rotcoordy+=[coord[0]*np.sin(angle)+coord[1]*np.cos(angle)]\n",
    "    rotcoords=[rotcoordx,rotcoordy]\n",
    "    rotcoords=np.array(rotcoords).T   \n",
    "    return rotcoords \n",
    "#print rotate(254,coords)[:,0]\n",
    "plt.scatter(rotate(0,coords)[:,0],rotate(0,coords)[:,1])"
   ]
  },
  {
   "cell_type": "code",
   "execution_count": null,
   "metadata": {},
   "outputs": [],
   "source": [
    "# OPTIMISATION FUNCTION returning total deviation between model and training set.\n",
    "#Total att\n",
    "def deviation(b):\n",
    "    total_att=np.ones((nturb,nwind))\n",
    "    deviation=0\n",
    "    for k in range(0,nwind):\n",
    "        for j in range(0,nturb):\n",
    "            for i in range(0,nturb):\n",
    "                if (i!=j):\n",
    "                    total_att[j,k] = total_att[j,k]*att(distance[i,j],np.mod(np.deg2rad(angle[i,j]-wind[k])+np.pi,np.pi*2)-np.pi,b)\n",
    " #           print('{0} {1} {2}'.format(j,wind[k],total_att[j,k]))\n",
    "            deviation=deviation+np.square(vref.get_group(wind[k]).iat[j,0]-v0*total_att[j,k])\n",
    "    return deviation"
   ]
  },
  {
   "cell_type": "code",
   "execution_count": null,
   "metadata": {},
   "outputs": [],
   "source": [
    "# OPTIMISATION FUNCTION returning deviation for each turbine.\n",
    "#Total att\n",
    "def deviation_sq(model):\n",
    "    total_att=np.ones((nturb,nwind))\n",
    "    dev_vec=np.zeros((nturb*nwind))\n",
    "    for k in range(0,nwind):\n",
    "        for j in range(0,nturb):\n",
    "            for i in range(0,nturb):\n",
    "                if (i!=j):\n",
    "                    total_att[j,k] = total_att[j,k]* att(distance[i,j],np.mod(np.deg2rad(angle[i,j]-wind[k])+np.pi,np.pi*2)-np.pi,model)\n",
    " #           print('{0} {1} {2}'.format(j,wind[k],total_att[j,k]))\n",
    "            dev_vec[nturb*k+j]=(vref.get_group(wind[k]).iat[j,0]-v0*total_att[j,k])\n",
    "    return dev_vec"
   ]
  },
  {
   "cell_type": "code",
   "execution_count": null,
   "metadata": {},
   "outputs": [],
   "source": [
    "# USEFUL OUTPUT\n",
    "# Calculates the % of wind that arrives at a turbine for a certain angle.\n",
    "# Starts with assumption that there's zero wake so all turbines get full wind.\n",
    "#talked about\n",
    "#Total att\n",
    "def windspeedreduction(distance,angle,direction,model): # vectors\n",
    "    ndir=np.size(direction)\n",
    "    total_att=np.ones((nturb,ndir)) # as many rows as there are turbines, as many columns as there are wind directions.\n",
    " #   power_vec=np.zeros((nturb,ndir))\n",
    "    for j in range(0,nturb):\n",
    "        for i in range(0,nturb):\n",
    "            if (i!=j):\n",
    "                # compounding wind speed reductions\n",
    "                total_att[j,:] = total_att[j,:]* att(distance[i,j],np.mod(np.deg2rad(angle[i,j]-direction[:])+np.pi,np.pi*2)-np.pi,model)\n",
    "  #      power_vec[j,:]=(v0*total_att[j,:])**3\n",
    "    return total_att # matrix output that's needed. n turbine rows, n direction columns.\n",
    "                     # Tells how much of 100% of wind arrives at a certain turbine from a certain direction."
   ]
  },
  {
   "cell_type": "code",
   "execution_count": null,
   "metadata": {},
   "outputs": [],
   "source": [
    "# Calculates the power produced by turbines when it sees a certain wind speed at a certain angle. 3D matrix\n",
    "def power(wsr,v): # wind speed reduction, velocity\n",
    "    nvel=np.size(v)\n",
    "    nangle=np.size(wsr,1)\n",
    "    power_vec=np.zeros((nturb,nangle,nvel))\n",
    "    power_vec=POvec(np.outer(wsr,v)).reshape(nturb,nangle,nvel) # np.outer takes every wsr element and individually multiplies it with every element of v.\n",
    "    return power_vec"
   ]
  },
  {
   "cell_type": "code",
   "execution_count": null,
   "metadata": {},
   "outputs": [],
   "source": [
    "# gives probability of having wind speed v at a certain angle.\n",
    "def windspeedprobability(angles,v,d_angle,d_vel):\n",
    "    nvel=np.size(v) \n",
    "    nangle=np.size(angles)\n",
    "    wsprob=np.zeros((nangle,nvel))\n",
    "    for i in range(angles.shape[0]):\n",
    "        # Get Weibull parameters for angle and evaluate probability\n",
    "        wsprob[i,:]=(wei(v[:],wbvel(angles[i]),wbshape(angles[i])))*windfreq(angles[i])*d_angle*d_vel\n",
    "    return wsprob"
   ]
  },
  {
   "cell_type": "code",
   "execution_count": null,
   "metadata": {},
   "outputs": [],
   "source": [
    "# Defines Weibull distribution (which shows the probability of any given wind speed occuring).\n",
    "\n",
    "def wei(x,n,k): # convention to have in this order, scale parameter comes first (x) \n",
    "    u=n/gamma(1+1/k) #scaled wind speed\n",
    "    return (k / u) * (x / u)**(k - 1) * np.exp(-(x / u)**k)\n",
    "# k = Weibull shape parameter\n",
    "# n = scale parameter\n",
    "# x= value we are valuating"
   ]
  },
  {
   "cell_type": "code",
   "execution_count": null,
   "metadata": {},
   "outputs": [],
   "source": [
    "def wind_dist(v,vm):\n",
    "    return wei(v,vm,k)"
   ]
  },
  {
   "cell_type": "code",
   "execution_count": null,
   "metadata": {},
   "outputs": [],
   "source": [
    "wind_dist(1.0,v0)"
   ]
  },
  {
   "cell_type": "code",
   "execution_count": null,
   "metadata": {},
   "outputs": [],
   "source": [
    "# Plots Weibull distribution.\n",
    "\n",
    "x=np.arange(0,25,0.1)\n",
    "y=wind_dist(x,v0)\n",
    "\n",
    "plt.xlabel('Wind Velocity')\n",
    "plt.ylabel('Probability')\n",
    "plt.plot(x,y)"
   ]
  },
  {
   "cell_type": "code",
   "execution_count": null,
   "metadata": {},
   "outputs": [],
   "source": [
    "velocities=np.arange(Vc,Vf,dvel) # 1D array ranging from Vc to Vf in dvel intervals.\n",
    "angles=np.arange(0,360,dang) # 0 to 360 with intervals of dang.\n",
    "wsp=windspeedprobability(angles,velocities,dang,dvel) # tells probability of getting wind from a certain direction with a certain velocity.\n",
    "# sum of all numbers would add up to 1.\n",
    "print(wsp,np.shape(wsp),np.sum(wsp))\n",
    "#plt.plot(x,y)"
   ]
  },
  {
   "cell_type": "code",
   "execution_count": null,
   "metadata": {},
   "outputs": [],
   "source": [
    "# Calculates the power curve of a turbine.\n",
    "\n",
    "# Plots the power curve of a turbine.\n",
    "# No power output from 0-4m/s, then cubic rise up to 15m/s and stays\n",
    "# constant until cut-off velocity of 25m/s.\n",
    "\n",
    "#cubic Based Power output\n",
    "a=Pr/(Vr**3-Vc**3)\n",
    "b=Vc**3/(Vr**3-Vc**3)\n",
    "\n",
    "def q(v): # q is power output\n",
    "\n",
    "    if (v<Vc): # below cut in velocity power is 0.\n",
    "        q=0\n",
    "    elif (v<Vr):\n",
    "        q=a*v**3-b*Pr # cubic power output between cut in and max.\n",
    "    elif (v<Vf):\n",
    "        q=Pr # max power between max and cut off velocity.\n",
    "    else: \n",
    "        q=0 # no power above cut off velocity.\n",
    "    return q"
   ]
  },
  {
   "cell_type": "code",
   "execution_count": null,
   "metadata": {},
   "outputs": [],
   "source": [
    "x=np.arange(0,25,0.1)\n",
    "POvec=np.vectorize(q) # vectorises power output function q (from cell above).\n",
    "y=POvec(x)\n",
    "\n",
    "plt.xlabel('Wind Velocity')\n",
    "plt.ylabel('Power')\n",
    "plt.plot(x,y)"
   ]
  },
  {
   "cell_type": "code",
   "execution_count": null,
   "metadata": {},
   "outputs": [],
   "source": [
    "wsr=windspeedreduction(distance,angle,angles,model)\n",
    "powout=power(wsr,velocities)\n",
    "#print(powout,np.shape(powout))"
   ]
  },
  {
   "cell_type": "code",
   "execution_count": null,
   "metadata": {},
   "outputs": [],
   "source": [
    "# Expected turbine output (Watts) in Horns Rev 1 for the given wind distributions\n",
    "# and positions.Can be seen that top left (NW) produces most energy.\n",
    "\n",
    "# EXPECTED POWER FROM WIND FARM CALCULATIONS\n",
    "# multiply the power that you'd get for each wind angle and speed condition by the probability of this occuring, for all angles and speed\n",
    "# values and sum to find the expected power.\n",
    "# Sum up this value for all turbines to find total wind farm expected power output.\n",
    "output=np.zeros((nturb)) \n",
    "output=np.tensordot(powout,wsp,2)\n",
    "print(output,np.shape(output),np.sum(output))\n",
    "\n",
    "# last output is total power output in Watts."
   ]
  },
  {
   "cell_type": "code",
   "execution_count": null,
   "metadata": {},
   "outputs": [],
   "source": [
    "# What all turbines would output (Watts) with no interference.\n",
    "#Reference output:\n",
    "# Same calculations as cell above except each turbine sees the full amount of wind every time\n",
    "# (i.e. no wind reduction from other turbines).\n",
    "refpowout=power(np.ones((nturb,np.size(angles))),velocities)\n",
    "refoutput=np.zeros((nturb))\n",
    "refoutput=np.tensordot(refpowout,wsp,axes=2)\n",
    "print(refoutput,np.shape(refoutput),np.sum(refoutput))\n",
    "\n",
    "# last output is total power output in Watts."
   ]
  },
  {
   "cell_type": "code",
   "execution_count": null,
   "metadata": {},
   "outputs": [],
   "source": [
    "# assigns smaller interpolation intervals to dvel and dang to compare to coarser interpolations.\n",
    "dvel=0.1\n",
    "dang=0.1\n",
    "velocities=np.arange(Vc,Vf+dvel,dvel)\n",
    "angles=np.arange(0,360,dang)\n",
    "wsp=windspeedprobability(angles,velocities,dang,dvel)\n",
    "wsr=windspeedreduction(distance,angle,angles,model)\n",
    "powout=power(wsr,velocities)\n",
    "output=np.zeros((nturb)) \n",
    "output=np.tensordot(powout,wsp,2)\n",
    "print (dvel,dang,np.sum(output))\n",
    "fineout=output"
   ]
  },
  {
   "cell_type": "code",
   "execution_count": null,
   "metadata": {},
   "outputs": [],
   "source": [
    "# Calculates RMS error from changing interpolation value.\n",
    "velarray=np.array([1.5])\n",
    "angarray=np.array([5])\n",
    "rmserror=np.zeros((np.size(velarray),np.size(angarray)))\n",
    "i=0\n",
    "for dvel in velarray:\n",
    "    j=0\n",
    "    for dang in angarray:\n",
    "        velocities=np.arange(Vc,Vf+dvel,dvel)\n",
    "        angles=np.arange(0,360,dang)\n",
    "        wsp=windspeedprobability(angles,velocities,dang,dvel)\n",
    "        wsr=windspeedreduction(distance,angle,angles,model)\n",
    "        powout=power(wsr,velocities)\n",
    "        output=np.zeros((nturb)) \n",
    "        output=np.tensordot(powout,wsp,2)\n",
    "        rmserror[i,j]=np.sqrt(np.sum(np.square(output-fineout))/np.size(output))\n",
    "        print (dvel,dang,np.sum(output),rmserror[i,j])\n",
    "        j+=1\n",
    "    i+=1\n",
    "print(rmserror)"
   ]
  },
  {
   "cell_type": "code",
   "execution_count": null,
   "metadata": {},
   "outputs": [],
   "source": [
    "# creates input needed for MST, similar recreation of cell 4. (Could make cell 4 a function then call it here).\n",
    "def geom_analysis(coords):\n",
    "    #Arrays for pairwise distances and angles\n",
    "    #Angle 0: x directıon. Angle pi/2: y directıon\n",
    "    nturb=np.size(coords,0)\n",
    "    distance=np.zeros((nturb,nturb))\n",
    "    angle=np.zeros((nturb,nturb))\n",
    "    for i in range(0,nturb):\n",
    "        distance[i,:]=np.sqrt(np.square(coords[i,0]-coords[:,0])+np.square(coords[i,1]-coords[:,1]))\n",
    "        angle[i,:]=np.arctan2(coords[:,1]-coords[i,1],coords[:,0]-coords[i,0])\n",
    "        distance[i,i]=1e10\n",
    "#Rotate angles so that north=0 and convert to degrees\n",
    "    angle=-np.rad2deg(angle)+270\n",
    "    return distance,angle"
   ]
  },
  {
   "cell_type": "code",
   "execution_count": null,
   "metadata": {},
   "outputs": [],
   "source": [
    "# determines minimum amount of cable needed to connect all turbines.\n",
    "# creates lower bound, ignoring redundancy and load balancing, etc.\n",
    "# if 1 connection is cut, you bisect tree in 2 different parts, could be improved.\n",
    "def Minimum_Spanning_Tree(distance):\n",
    "#    edges= np.zeros((0,3))\n",
    "    g=Graph(nturb)\n",
    "    for i in range(0,nturb):\n",
    "        for j in range(i+1,nturb):\n",
    "#            if distance[i,j]<1500:\n",
    "            g.addEdge(i,j,int(distance[i,j]*1000))\n",
    "#    for p in range(0,(edges.shape[1]-1)):\n",
    "#        if int(edges[p,2])<1500:\n",
    "#            g.addEdge(int(edges[p,0]),int(edges[p,1]),int(edges[p,2]))\n",
    "    MSTweight=g.boruvkaMST()\n",
    "#    print (MSTweight)\n",
    "    return MSTweight"
   ]
  },
  {
   "cell_type": "code",
   "execution_count": null,
   "metadata": {},
   "outputs": [],
   "source": [
    "# analyses the coordinates tocollate the distances and angles between all of them\n",
    "# calculates the minimum spanning tree length and adds the assumption of cabling costs,\n",
    "# turbines costs, maintenance costs and fixed costs.\n",
    "\n",
    "def targetfunction(coord_flat):\n",
    "#from scipy.optimize import minimize\n",
    "    coords=np.reshape(coord_flat,(-1,2)) # undoes the coordinate flattening\n",
    "    nturb=np.size(coords,0)\n",
    "#    print(coords)\n",
    "    distance,angle = geom_analysis(coords)\n",
    "    MSTweight=Minimum_Spanning_Tree(distance)###\n",
    "    CableCost=(MSTweight[0]/1000)*300###\n",
    "    \n",
    "    ### REMOVE THIS LINE BELOW. ISN't NEEDED!!!\n",
    "    \n",
    "    coords_in = np.loadtxt('coords.txt')###\n",
    "    \n",
    "    ##########################################\n",
    "    \n",
    "    # technically could add these at end as they add slight computation itme but this is neglibile. It's best to keep these\n",
    "    # in as number of turbines can change. Especially if you then want to optimise the number of turbines.\n",
    "    TurbineCost=(nturb)*3000000/1.2821###\n",
    "    MaintenanceCosts=(nturb)*2*1563720###\n",
    "    FixedCost=600000###\n",
    "    # (coords) sets the area in which turbines can be placed.\n",
    "    xmin = min(coords[:,0])###\n",
    "    ymin = min(coords[:,1])###\n",
    "    xmax = max(coords[:,0])###\n",
    "    ymax = max(coords[:,1])###\n",
    "    \n",
    "    \n",
    "    \n",
    "    LandCost=(xmax-xmin)*(ymax-ymin)*(17245/10000)###\n",
    "    TotalCost=CableCost+TurbineCost+LandCost+MaintenanceCosts+FixedCost###\n",
    "    \n",
    "    # remove penalty also? Redundant\n",
    "    penalty=0\n",
    "    \n",
    "    wsr=windspeedreduction(distance,angle,angles,model)\n",
    "    powout=power(wsr,velocities) # total output power\n",
    "    output=np.tensordot(powout,wsp,2)\n",
    "    \n",
    "    print(np.min(distance),np.sum(output),TotalCost,(TotalCost/(np.sum(output))))###\n",
    "# outputs cost per power e.g. £/watt.\n",
    "\n",
    "# remove penalty also? Redundant\n",
    "\n",
    "    #if(np.min(distance)<200): penalty=10000*nturb*(np.min(distance)-200)**2\n",
    "    return (TotalCost/(np.sum(output)))#+penalty"
   ]
  },
  {
   "cell_type": "code",
   "execution_count": null,
   "metadata": {},
   "outputs": [],
   "source": [
    "flat_coords=coords.flatten() # turns 2D coords into single list of data without any more structure.\n",
    "bounds=Bounds(np.tile([-2728.5, -1952.],nturb), np.tile([2728.5, 1952.],nturb))\n",
    "dvel=1.5\n",
    "dang=5\n",
    "velocities=np.arange(Vc,Vf+dvel,dvel)\n",
    "angles=np.arange(0,360,dang)\n",
    "#MSTweight=Minimum_Spanning_Tree(distance)\n",
    "res = minimize(targetfunction, flat_coords, method='L-BFGS-B', jac=False, hess=None, options={'disp': 2, 'eps': 50}, bounds=bounds)"
   ]
  },
  {
   "cell_type": "code",
   "execution_count": null,
   "metadata": {},
   "outputs": [],
   "source": [
    "#print(res.x)\n",
    "#print(res.x-flat_coords)"
   ]
  },
  {
   "cell_type": "code",
   "execution_count": null,
   "metadata": {},
   "outputs": [],
   "source": [
    "# Unflattens minimization function output (res.x) and puts them into newcoords\n",
    "newcoords=np.reshape(res.x,(-1,2))\n",
    "#print(newcoords)"
   ]
  },
  {
   "cell_type": "code",
   "execution_count": null,
   "metadata": {},
   "outputs": [],
   "source": [
    "# plot to compare old and new coordinates\n",
    "\n",
    "plt.scatter(newcoords[:,0],newcoords[:,1], color='red') # plots new coordinates\n",
    "plt.scatter(rotate(0,coords)[:,0],rotate(0,coords)[:,1]) # coords are the original coordinates\n",
    "\n",
    "plt.legend([\"Optimised\", \"Original\"],bbox_to_anchor=(0., 1.02, 1., .102), loc=3,\n",
    "           ncol=2, mode=\"expand\", borderaxespad=0.)"
   ]
  },
  {
   "cell_type": "code",
   "execution_count": null,
   "metadata": {},
   "outputs": [],
   "source": [
    "newcoords_unconstrained=newcoords"
   ]
  },
  {
   "cell_type": "code",
   "execution_count": null,
   "metadata": {},
   "outputs": [],
   "source": [
    "plt.scatter(rotate(0,coords)[:,0],rotate(0,coords)[:,1])"
   ]
  },
  {
   "cell_type": "code",
   "execution_count": null,
   "metadata": {},
   "outputs": [],
   "source": [
    "plt.scatter(newcoords[:,0],newcoords[:,1], color='red')"
   ]
  },
  {
   "cell_type": "code",
   "execution_count": null,
   "metadata": {},
   "outputs": [],
   "source": [
    "54123077.32294567-53477710.87598161"
   ]
  },
  {
   "cell_type": "code",
   "execution_count": null,
   "metadata": {},
   "outputs": [],
   "source": [
    "((55751104.56647739-54166276.11371625)/55751104.56647739)*100"
   ]
  },
  {
   "cell_type": "code",
   "execution_count": null,
   "metadata": {},
   "outputs": [],
   "source": [
    "# Could remove this as done twice\n",
    "MSTweight=Minimum_Spanning_Tree(geom_analysis(newcoords)[0])"
   ]
  },
  {
   "cell_type": "code",
   "execution_count": null,
   "metadata": {},
   "outputs": [],
   "source": [
    "# prints the connections\n",
    "MSTweight=Minimum_Spanning_Tree(geom_analysis(newcoords)[0])\n",
    "print (MSTweight)\n",
    "links=MSTweight[1]\n",
    "print(links)"
   ]
  },
  {
   "cell_type": "code",
   "execution_count": null,
   "metadata": {},
   "outputs": [],
   "source": [
    "# MST plot of NEW COORDS (analysis is above)\n",
    "plt.scatter(newcoords[:,0],newcoords[:,1])\n",
    "plt.axis('equal')\n",
    "for i in links:\n",
    "    plt.plot(newcoords[i[:],0],newcoords[i[:],1])"
   ]
  },
  {
   "cell_type": "code",
   "execution_count": null,
   "metadata": {},
   "outputs": [],
   "source": [
    "print(MSTweight[0])"
   ]
  },
  {
   "cell_type": "code",
   "execution_count": null,
   "metadata": {},
   "outputs": [],
   "source": [
    "coords_in = np.loadtxt('coords.txt')###\n",
    "print(int(np.shape(coords_in[:,0])[0]))"
   ]
  },
  {
   "cell_type": "code",
   "execution_count": null,
   "metadata": {},
   "outputs": [],
   "source": [
    "# MST analysis and plot of OLD COORDS\n",
    "\n",
    "MSTweight=Minimum_Spanning_Tree(geom_analysis(coords)[0])\n",
    "links=MSTweight[1]\n",
    "plt.scatter(coords[:,0],coords[:,1])\n",
    "for i in links:\n",
    "    plt.plot(coords[i[:],0],coords[i[:],1])#ignore this one"
   ]
  },
  {
   "cell_type": "code",
   "execution_count": null,
   "metadata": {},
   "outputs": [],
   "source": [
    "# displays the last contents of the target function, could tidy this up by calling target function!\n",
    "\n",
    "coords=np.loadtxt('coords.txt')\n",
    "nturb=np.size(coords,0)\n",
    "distance,angle = geom_analysis(coords)\n",
    "MSTweight=Minimum_Spanning_Tree(distance)###\n",
    "CableCost=(MSTweight[0]/1000)*300###\n",
    "TurbineCost=(nturb)*3000000/1.2821###\n",
    "MaintenanceCosts=(nturb)*2*1563720###\n",
    "FixedCost=600000###\n",
    "xmin = min(coords[:,0])###\n",
    "ymin = min(coords[:,1])###\n",
    "xmax = max(coords[:,0])###\n",
    "ymax = max(coords[:,1])###\n",
    "\n",
    "    \n",
    "LandCost=(xmax-xmin)*(ymax-ymin)*(17245/10000)###\n",
    "\n",
    "\n",
    "TotalCost=CableCost+TurbineCost+LandCost+MaintenanceCosts+FixedCost###\n",
    "penalty=0\n",
    "wsr=windspeedreduction(distance,angle,angles,model)\n",
    "powout=power(wsr,velocities)\n",
    "output=np.tensordot(powout,wsp,2)\n",
    "\n",
    "print(np.min(distance),np.sum(output),TotalCost,(TotalCost/(np.sum(output))))###"
   ]
  },
  {
   "cell_type": "code",
   "execution_count": null,
   "metadata": {},
   "outputs": [],
   "source": [
    "#topodata = open(\"nsea86.m77t\")\n",
    "#print(topodata.read()) \n",
    "#type(topodata)\n",
    "data = pd.read_csv(\"nsea86.m77t\", sep='\\t')\n",
    "print(data)"
   ]
  },
  {
   "cell_type": "code",
   "execution_count": null,
   "metadata": {},
   "outputs": [],
   "source": [
    "#drop irrelevant columns in this cell"
   ]
  },
  {
   "cell_type": "code",
   "execution_count": null,
   "metadata": {},
   "outputs": [],
   "source": [
    "# TESTING\n",
    "\n",
    "coordinate = utm.from_latlon(54, 7) # inputs are lat, long\n",
    "print (coordinate)\n",
    "coordinate2 = utm.from_latlon(54.1, 7)\n",
    "print (coordinate2) # outputs are easting, northing\n",
    "print(coordinate[0] - coordinate2[0])\n",
    "print(coordinate[1] - coordinate2[1])"
   ]
  },
  {
   "cell_type": "code",
   "execution_count": null,
   "metadata": {},
   "outputs": [],
   "source": [
    "#data['coordinate'] = utm.from_latlon(data['LAT'], data['LON'])\n",
    "\n",
    "data['easting'] = data.apply(lambda row: utm.from_latlon(row['LAT'], row['LON'])[0], axis=1)\n",
    "data['northing'] = data.apply(lambda row: utm.from_latlon(row['LAT'], row['LON'])[1], axis=1)\n",
    "\n",
    "#coordinates are approximate, explain further\n",
    "#max - min/2 to find centre and map to 0,0.\n",
    "#bivariate spline\n",
    "\n",
    "print(data)\n"
   ]
  },
  {
   "cell_type": "code",
   "execution_count": null,
   "metadata": {},
   "outputs": [],
   "source": [
    "depth = spline.SmoothBivariateSpline(data['easting'], data['northing'], data['CORR_DEPTH'])\n",
    "#attempt plotting to see if it is smoothing too much\n",
    "\n",
    "#(x, y, z, w=None, bbox=[None, None, None, None], kx=3, ky=3, s=None, eps=1e-16)"
   ]
  },
  {
   "cell_type": "code",
   "execution_count": null,
   "metadata": {},
   "outputs": [],
   "source": [
    "print(depth(592318.3199199219, 6040378.688430359))\n",
    "print(depth.get_coeffs)\n",
    "\n",
    "\n",
    "# create 2 arrays from min to max of eastings and northings and create x y mesh grid\n",
    "# eastings and northings instead of azimuths and zeniths\n",
    "\n",
    "ax = plt.axes(projection='3d')\n",
    "#ax.plot_trisurf(X, Y, Z, linewidth=0, antialiased=False)\n",
    "ax.plot_trisurf(data['easting'], data['northing'], data['CORR_DEPTH'], cmap='viridis', edgecolor='none')\n",
    "ax.set_title('surface');\n",
    "\n",
    "# depth not mod, contour function not polar plot\n",
    "# optional argument s in smoothbivariatespline can be looked into as we may be oversmoothing.\n",
    "# Must do some smoothing still, may need a different interpolation scheme. SciPi interpolate has many\n",
    "# multivariate interpolation schemes. Can work with it for now and replace it at a later stage, can\n",
    "# go back and replace later.\n",
    "\n",
    "\n",
    "#azimuths = np.radians(np.linspace(0, 360, 360)) # angles theta from 0 to 360 degress in 1 degree increments. Grid\n",
    "#zeniths = np.arange(0, 4000, 50) # distance from 0 to 4000 broken up into increments of 50.\n",
    "\n",
    "#r, theta = np.meshgrid(zeniths, azimuths)\n",
    "#values = att(r,np.mod(theta+np.pi,np.pi*2)-np.pi,model) # gets angles from -pi to pi, not from 0 to 2pi.\n",
    "\n",
    "\n",
    "#fig, ax = plt.subplots(subplot_kw=dict(projection='polar'))\n",
    "#ax.contourf(theta, r, np.maximum(values,0.85*np.ones(np.shape(values))))\n",
    "\n",
    "#plt.show()\n",
    "#print(np.min(values))"
   ]
  },
  {
   "cell_type": "code",
   "execution_count": null,
   "metadata": {},
   "outputs": [],
   "source": []
  }
 ],
 "metadata": {
  "kernelspec": {
   "display_name": "Python 3",
   "language": "python",
   "name": "python3"
  },
  "language_info": {
   "codemirror_mode": {
    "name": "ipython",
    "version": 3
   },
   "file_extension": ".py",
   "mimetype": "text/x-python",
   "name": "python",
   "nbconvert_exporter": "python",
   "pygments_lexer": "ipython3",
   "version": "3.8.3"
  }
 },
 "nbformat": 4,
 "nbformat_minor": 2
}
