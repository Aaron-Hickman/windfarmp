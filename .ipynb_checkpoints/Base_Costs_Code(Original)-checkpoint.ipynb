{
 "cells": [
  {
   "cell_type": "code",
   "execution_count": null,
   "metadata": {},
   "outputs": [],
   "source": [
    "import scipy.special as sp\n",
    "import numpy as np\n",
    "import matplotlib.pyplot as plt\n",
    "import pandas as pd\n",
    "from scipy.optimize import minimize,least_squares,Bounds\n",
    "from scipy.special import gamma\n",
    "import matplotlib.cm as cm\n",
    "from Boruvka_Mod import Graph"
   ]
  },
  {
   "cell_type": "code",
   "execution_count": null,
   "metadata": {},
   "outputs": [],
   "source": [
    "### Sets model parameters\n",
    "v0=8.0\n",
    "nwind = 33\n",
    "wind=np.arange(254,287)\n",
    "#b=np.array((1,5,1000))\n",
    "#b=np.array(( 1.40002561e-01,   8.51478121e+00,   2.62606729e+03))\n",
    "\n",
    "# 3 model parameters below:\n",
    "# 0th: how wide the angle of effect is.\n",
    "# 1st: how much power the turbine removes at the centre of the peak of the power distribution.\n",
    "# 2nd: up to how far back the effect takes place (approx. 2.6km)\n",
    "model=np.array((1.39998719e-01, 8.51483871e+00, 2.62613638e+03))\n",
    "\n",
    "ws=2.0 #weibull scale factor\n",
    "wei_gamma=gamma(1.+1./ws)\n",
    "\n",
    "Pr = 2*10**6 #Rated Power for Horns Rev 1 Turbines. Max power output\n",
    "Vc = 4.0 #Cut-in Velocity. Starts producing energy at wind speed of 4m/s\n",
    "Vr = 15.0 #Rated Velocity. Starts producing max energy at 15m/s\n",
    "Vf = 25.0 #Cut-off Velocity. Turbines cut out at wind speeds of 25m/s to prevent damage to the turbines.\n",
    "k = 2.0 #Weibull shape parameter\n",
    "(Pr,Vc,Vr,k)\n",
    "\n",
    "#interpolation parameters\n",
    "dvel=1.5\n",
    "dang=5."
   ]
  },
  {
   "cell_type": "code",
   "execution_count": null,
   "metadata": {},
   "outputs": [],
   "source": [
    "### (gives current position of the Horns Rev 1 wind turbines).\n",
    "\n",
    "## EXPAND ON COMMENTS!!!!!!!!!!!!!!!!!!!!!!!!!!!!!!!!!!!!!!!!!!!!!!!!!!!!!!!!!!\n",
    "\n",
    "v=np.loadtxt('hornsrev_data_all.txt') # assigns data to variable v.\n",
    "\n",
    "vxref=v[:,3] # (INDEXING STARTS FROM 0). Third column of data is velocity of wind in x direction.\n",
    "vyref=v[:,4] # (INDEXING STARTS FROM 0). Fourth column of data is velocity of wind in y direction.\n",
    "angles=v[:,0] # Zeroth column of data is wind angle.\n",
    "vmean=np.sqrt(np.square(vxref)+np.square(vyref)) # Uses pythagoras to find the wind magnitude + direction for each location.\n",
    "\n",
    "# print(vmean)\n",
    "vmean=pd.DataFrame(vmean) # organises vmean into labelled data structure\n",
    "# print(vmean)\n",
    "\n",
    "vref=pd.DataFrame()\n",
    "vmean['angle']=angles\n",
    "vref=vref.append(vmean)\n",
    "vref=vref.groupby('angle')\n",
    "vref.groups\n",
    "vref.describe()\n",
    "vref.get_group(260).iat[50,0]\n",
    "#vref.iat[5,0]\n",
    "#vref.groupby('angle')"
   ]
  },
  {
   "cell_type": "code",
   "execution_count": null,
   "metadata": {},
   "outputs": [],
   "source": [
    "### Imports, manipulates and displays coordinates of all turbines at Horns Rev 1.\n",
    "\n",
    "# in coords matrix the first index references the turbine, the second index references said coordinate's value (0=x, 1=y).\n",
    "\n",
    "coords_in = np.loadtxt('coords.txt')\n",
    "\n",
    "# CLARIFY WHAT THESE COORDS ARE WITH PRINT: LOWER LEFT COORDS BELOW: and print a gap between outputs\n",
    "\n",
    "print(min(coords_in[:,0]), min(coords_in[:,1])) # finds and displays most west and most south coordinates of turbines\n",
    "# (note: not necessarily 1 turbine that represemts x and y values, just finds reference frame for wind farm). \n",
    "\n",
    "# sets xmin and ymin to these lower left most coordinate values.\n",
    "xmin = min(coords_in[:,0])\n",
    "ymin = min(coords_in[:,1])\n",
    "\n",
    "# sets centre point halfway between the min and max coords:\n",
    "xzero = (max(coords_in[:,0])-xmin)/2\n",
    "yzero = (max(coords_in[:,1])-ymin)/2\n",
    "# print(xzero, yzero)\n",
    "\n",
    "# transforms coordinates so they're centred around the origin of the coordinates system:\n",
    "coords_x=coords_in[:,0]-xzero-xmin\n",
    "coords_y=coords_in[:,1]-yzero-ymin\n",
    "coords=[coords_x,coords_y]\n",
    "\n",
    "\n",
    "\n",
    "print (coords) # displays array of manipulated coordinates.\n",
    "\n",
    "\n",
    "coords=np.array(coords).T # transposes coordinates\n",
    "nturb=np.shape(coords)[0] # counts total number of turbines by  putting array into a tuple and counting entries.\n",
    "\n",
    "\n",
    "plt.scatter(coords[:,0], coords[:,1]) # plots turbines as a scatter plot (x,y).\n",
    "\n",
    "\n",
    "\n",
    "#Arrays for pairwise distances and angles\n",
    "#Angle 0: x direction. Angle pi/2: y directıon\n",
    "\n",
    "# calculates distance and angle between each pair of turbines:\n",
    "\n",
    "distance=np.zeros((nturb,nturb)) # 2x2 matrix of distances between turbines i and j where distance i-i and distance j-j = 0\n",
    "# as they're distances to themselves: i-i i-j\n",
    "                                 #    j-i j-j\n",
    "\n",
    "angle=np.zeros((nturb,nturb)) # same as above but for angles between turbines.\n",
    "for i in range(0,nturb):\n",
    "   \n",
    "    # 80x80 matrices as there's 80 turbines at Horns Rev 1.\n",
    "    \n",
    "    # squares y distance and x distance then sqrt to find overall distance between 2 turbines.\n",
    "    distance[i,:]=np.sqrt(np.square(coords[i,0]-coords[:,0])+np.square(coords[i,1]-coords[:,1]))\n",
    "    # same as above using arctan2 whilst giving correct quadrant (between 2 turbines).\n",
    "    angle[i,:]=np.arctan2(coords[:,1]-coords[i,1],coords[:,0]-coords[i,0])\n",
    "# Rotate angles so that north=0 and convert to degrees\n",
    "angle=-np.rad2deg(angle)+270\n",
    "angle[0,1]\n",
    "\n",
    "# Rotating angles to wind direction (clockwise instead of anticlockwise)\n",
    "windangle=5 # degrees\n",
    "rotangles=np.mod(angle-windangle+180,360)-180\n",
    "\n",
    "# creates list of turbines with largest to shortest distances between them.\n",
    "(np.sort(distance))[0,2]"
   ]
  },
  {
   "cell_type": "code",
   "execution_count": null,
   "metadata": {},
   "outputs": [],
   "source": [
    "# imports wind direction (meteorological data where north = 0 degrees)\n",
    "import pandas as pd\n",
    "data = pd.read_csv ('Directiondata.csv')\n",
    "print (data)\n",
    "# velocity is the mean velocity with which wind from this direction blows\n",
    "# c determines how wide the distribution is\n",
    "# frequency/100 determines how often the wind is blowing at this angle"
   ]
  },
  {
   "cell_type": "code",
   "execution_count": null,
   "metadata": {},
   "outputs": [],
   "source": [
    "# could make comments here a markdown cell??\n",
    "\n",
    "# interpolate 'velocity'\n",
    "# info is only given every 30 degrees, giving a 'step function'\n",
    "# interpolation gives higher resolution\n",
    "# function is periodic as 360deg is the same as 0deg.\n",
    "x = data['Angle']\n",
    "y = data['Velocity']\n",
    "from scipy.interpolate import CubicSpline as SP\n",
    "import matplotlib.pyplot as plt\n",
    "wbvel = SP (x, y,bc_type='periodic')\n",
    "xs = np.arange(0, 360,0.10)\n",
    "plt.plot(x,y, label='Line')\n",
    "plt.plot(xs, wbvel(xs), label=\"Interpolated line \")\n",
    "plt.title('Interpolated Velocity Data')\n",
    "plt.xlabel('Angle')\n",
    "plt.ylabel('Velocity')\n",
    "plt.show()\n",
    "\n",
    "# blue lines shows linear interpolation, orange shows smooth interpolation"
   ]
  },
  {
   "cell_type": "code",
   "execution_count": null,
   "metadata": {},
   "outputs": [],
   "source": [
    "#interpolate 'c'\n",
    "# info is only given every 30 degrees, giving a 'step function'\n",
    "# interpolation gives higher resolution\n",
    "# function is periodic as 360deg is the same as 0deg.\n",
    "x = data['Angle']\n",
    "y = data['c']\n",
    "from scipy.interpolate import CubicSpline as SP\n",
    "import matplotlib.pyplot as plt\n",
    "wbshape = SP (x, y,bc_type='periodic')\n",
    "xs = np.arange(0, 360, 0.1)\n",
    "plt.plot(x,y)\n",
    "plt.plot(xs, wbshape(xs), label=\"S\")\n",
    "plt.title('Interpolated Shape Parameter Data')\n",
    "plt.xlabel('Angle')\n",
    "plt.ylabel('Shape Parameter')\n",
    "plt.show()"
   ]
  },
  {
   "cell_type": "code",
   "execution_count": null,
   "metadata": {},
   "outputs": [],
   "source": [
    "#interpolate 'frequency'\n",
    "# info is only given every 30 degrees, giving a 'step function'\n",
    "# interpolation gives higher resolution\n",
    "# function is periodic as 360deg is the same as 0deg.\n",
    "x = data['Angle']\n",
    "y = data['frequency']/(100.*30.) #Data is in percent per 30 degrees, changing to probability per degree\n",
    "from scipy.interpolate import CubicSpline as SP\n",
    "import matplotlib.pyplot as plt\n",
    "windfreq = SP (x, y,bc_type='periodic')\n",
    "xs = np.arange(0, 360, 0.1)\n",
    "plt.plot(x,y)\n",
    "plt.plot(xs, windfreq(xs), label=\"S\")\n",
    "plt.title('Interpolated Probability Data')\n",
    "plt.xlabel('Angle')\n",
    "plt.ylabel('Probability')\n",
    "plt.show()\n",
    "# plot shows wind direction is predominantly 200-320deg."
   ]
  },
  {
   "cell_type": "code",
   "execution_count": null,
   "metadata": {},
   "outputs": [],
   "source": [
    "# Simple Attenuation fn\n",
    "# Determines how much wind there is AFTER a turbine.\n",
    "def att(dist, ang, model): \n",
    "        # 'Model' parameters are defined in 2ND CELL.\n",
    "\n",
    "    # angular part\n",
    "    angular=np.where(2.*model[1]*np.abs(ang)<np.pi,np.square(np.cos(model[1]*ang)),0.)\n",
    "    # angular = np.cos(model[1]*ang WHEN 2.*model[1]*np.abs(ang) is less than pi, else angular = 0.\n",
    "    \n",
    "    # radial part (distance) (Gaussian Function)\n",
    "    radial=np.exp(-np.square(dist/model[2])) # decreasing exponential of square, scaled by 2nd parameter\n",
    "    penalty=np.exp(-np.square(dist/200))\n",
    "    return 1.0-1*model[0]*angular*radial-2*model[0]*penalty # OUTCOME"
   ]
  },
  {
   "cell_type": "code",
   "execution_count": null,
   "metadata": {},
   "outputs": [],
   "source": [
    "print(np.sort(angle.flatten()))"
   ]
  },
  {
   "cell_type": "code",
   "execution_count": null,
   "metadata": {},
   "outputs": [],
   "source": [
    "azimuths = np.radians(np.linspace(0, 360, 360))\n",
    "zeniths = np.arange(0, 4000, 50)\n",
    "\n",
    "r, theta = np.meshgrid(zeniths, azimuths)\n",
    "values = att(r,np.mod(theta+np.pi,np.pi*2)-np.pi,model)\n",
    "\n",
    "#print(values)\n",
    "#-- Plot... ------------------------------------------------\n",
    "fig, ax = plt.subplots(subplot_kw=dict(projection='polar'))\n",
    "ax.contourf(theta, r, np.maximum(values,0.85*np.ones(np.shape(values))))\n",
    "\n",
    "plt.show()\n",
    "print(np.min(values))\n",
    "\n",
    "## Markdown cell description:\n",
    "# Polar plot is for 1 turbine, blue area shows where wind speed is affected. (Numbers label distance from turbine).\n",
    "# Across the curve the distribution is the hump of cosine^2 function.\n",
    "# Radially the distribution shown is Gaussian.\n",
    "# wake is too narrow close to the turbine as it treats the turbine as a point rather than accommodating\n",
    "# for the blades' diameter."
   ]
  },
  {
   "cell_type": "code",
   "execution_count": null,
   "metadata": {},
   "outputs": [],
   "source": [
    "print(theta,np.mod(np.deg2rad(theta)+np.pi,np.pi*2)-np.pi)"
   ]
  },
  {
   "cell_type": "code",
   "execution_count": null,
   "metadata": {},
   "outputs": [],
   "source": [
    "r=np.arange"
   ]
  },
  {
   "cell_type": "code",
   "execution_count": null,
   "metadata": {},
   "outputs": [],
   "source": [
    "ind=np.zeros((8,10))\n",
    "for i in range(0,8):\n",
    "    for j in range(0,10):\n",
    "        ind[i,j]=i+8*j\n",
    "ind=ind.astype(int)\n",
    "ind"
   ]
  },
  {
   "cell_type": "code",
   "execution_count": null,
   "metadata": {},
   "outputs": [],
   "source": [
    "i=0\n",
    "j=4\n",
    "print('Turbine {} x {} y {}'.format(i,coords[i,0],coords[i,1]))\n",
    "print('Turbine {} x {} y {}'.format(j,coords[j,0],coords[j,1]))\n",
    "print('{}-{} dist {} angle {}'.format(i,j,distance[i,j], angle[i,j]))"
   ]
  },
  {
   "cell_type": "code",
   "execution_count": null,
   "metadata": {},
   "outputs": [],
   "source": [
    "def rotate(angle,coords):\n",
    "    angle = np.pi*angle/180.\n",
    "    rotcoordx = []\n",
    "    rotcoordy = []\n",
    "    for coord in coords:\n",
    "        rotcoordx+=[coord[0]*np.cos(angle)-coord[1]*np.sin(angle)]\n",
    "        rotcoordy+=[coord[0]*np.sin(angle)+coord[1]*np.cos(angle)]\n",
    "    rotcoords=[rotcoordx,rotcoordy]\n",
    "    rotcoords=np.array(rotcoords).T   \n",
    "    return rotcoords \n",
    "#print rotate(254,coords)[:,0]\n",
    "plt.scatter(rotate(0,coords)[:,0],rotate(0,coords)[:,1])"
   ]
  },
  {
   "cell_type": "code",
   "execution_count": null,
   "metadata": {},
   "outputs": [],
   "source": [
    "#Total att\n",
    "def deviation(b):\n",
    "    total_att=np.ones((nturb,nwind))\n",
    "    deviation=0\n",
    "    for k in range(0,nwind):\n",
    "        for j in range(0,nturb):\n",
    "            for i in range(0,nturb):\n",
    "                if (i!=j):\n",
    "                    total_att[j,k] = total_att[j,k]*att(distance[i,j],np.mod(np.deg2rad(angle[i,j]-wind[k])+np.pi,np.pi*2)-np.pi,b)\n",
    " #           print('{0} {1} {2}'.format(j,wind[k],total_att[j,k]))\n",
    "            deviation=deviation+np.square(vref.get_group(wind[k]).iat[j,0]-v0*total_att[j,k])\n",
    "    return deviation"
   ]
  },
  {
   "cell_type": "code",
   "execution_count": null,
   "metadata": {},
   "outputs": [],
   "source": [
    "#Total att\n",
    "def deviation_sq(model):\n",
    "    total_att=np.ones((nturb,nwind))\n",
    "    dev_vec=np.zeros((nturb*nwind))\n",
    "    for k in range(0,nwind):\n",
    "        for j in range(0,nturb):\n",
    "            for i in range(0,nturb):\n",
    "                if (i!=j):\n",
    "                    total_att[j,k] = total_att[j,k]* att(distance[i,j],np.mod(np.deg2rad(angle[i,j]-wind[k])+np.pi,np.pi*2)-np.pi,model)\n",
    " #           print('{0} {1} {2}'.format(j,wind[k],total_att[j,k]))\n",
    "            dev_vec[nturb*k+j]=(vref.get_group(wind[k]).iat[j,0]-v0*total_att[j,k])\n",
    "    return dev_vec"
   ]
  },
  {
   "cell_type": "code",
   "execution_count": null,
   "metadata": {},
   "outputs": [],
   "source": [
    "#talked about\n",
    "#Total att\n",
    "def windspeedreduction(distance,angle,direction,model):\n",
    "    ndir=np.size(direction)\n",
    "    total_att=np.ones((nturb,ndir)) \n",
    " #   power_vec=np.zeros((nturb,ndir))\n",
    "    for j in range(0,nturb):\n",
    "        for i in range(0,nturb):\n",
    "            if (i!=j):\n",
    "                total_att[j,:] = total_att[j,:]* \\\n",
    "                    att(distance[i,j],np.mod(np.deg2rad(angle[i,j]-direction[:])+np.pi,np.pi*2)-np.pi,model)\n",
    "  #      power_vec[j,:]=(v0*total_att[j,:])**3\n",
    "    return total_att"
   ]
  },
  {
   "cell_type": "code",
   "execution_count": null,
   "metadata": {},
   "outputs": [],
   "source": [
    "def power(wsr,v):\n",
    "    nvel=np.size(v)\n",
    "    nangle=np.size(wsr,1)\n",
    "    power_vec=np.zeros((nturb,nangle,nvel))\n",
    "    power_vec=POvec(np.outer(wsr,v)).reshape(nturb,nangle,nvel)\n",
    "    return power_vec"
   ]
  },
  {
   "cell_type": "code",
   "execution_count": null,
   "metadata": {},
   "outputs": [],
   "source": [
    "#talked about\n",
    "def windspeedprobability(angles,v,d_angle,d_vel):\n",
    "    nvel=np.size(v) \n",
    "    nangle=np.size(angles)\n",
    "    wsprob=np.zeros((nangle,nvel))\n",
    "    for i in range(angles.shape[0]):\n",
    "        # Get Weibull parameters for angle and evaluate probability\n",
    "        wsprob[i,:]=(wei(v[:],wbvel(angles[i]),wbshape(angles[i])))*windfreq(angles[i])*d_angle*d_vel\n",
    "    return wsprob"
   ]
  },
  {
   "cell_type": "code",
   "execution_count": null,
   "metadata": {},
   "outputs": [],
   "source": [
    "def wei(x,n,k): # convention to have in this order, scale parameter comes first (x) \n",
    "    u=n/gamma(1+1/k) #scaled wind speed\n",
    "    return (k / u) * (x / u)**(k - 1) * np.exp(-(x / u)**k)\n",
    "# k = Weibull shape parameter\n",
    "# n = scale parameter\n",
    "# x= value we are valuating"
   ]
  },
  {
   "cell_type": "code",
   "execution_count": null,
   "metadata": {},
   "outputs": [],
   "source": [
    "def wind_dist(v,vm):\n",
    "    return wei(v,vm,k)"
   ]
  },
  {
   "cell_type": "code",
   "execution_count": null,
   "metadata": {},
   "outputs": [],
   "source": [
    "wind_dist(1.0,v0)"
   ]
  },
  {
   "cell_type": "code",
   "execution_count": null,
   "metadata": {},
   "outputs": [],
   "source": [
    "x=np.arange(0,25,0.1)\n",
    "y=wind_dist(x,v0)\n",
    "\n",
    "plt.xlabel('Wind Velocity')\n",
    "plt.ylabel('Probability')\n",
    "plt.plot(x,y)"
   ]
  },
  {
   "cell_type": "code",
   "execution_count": null,
   "metadata": {},
   "outputs": [],
   "source": [
    "velocities=np.arange(Vc,Vf,dvel)\n",
    "angles=np.arange(0,360,dang)\n",
    "wsp=windspeedprobability(angles,velocities,dang,dvel)\n",
    "print(wsp,np.shape(wsp),np.sum(wsp))\n",
    "#plt.plot(x,y)"
   ]
  },
  {
   "cell_type": "code",
   "execution_count": null,
   "metadata": {},
   "outputs": [],
   "source": [
    "#cubic Based Power output\n",
    "#constants RENAME!!!\n",
    "a=Pr/(Vr**3-Vc**3)\n",
    "b=Vc**3/(Vr**3-Vc**3)\n",
    "\n",
    "def q(v):\n",
    "\n",
    "    if (v<Vc): \n",
    "        q=0\n",
    "    elif (v<Vr):\n",
    "        q=a*v**3-b*Pr\n",
    "    elif (v<Vf):\n",
    "        q=Pr\n",
    "    else: \n",
    "        q=0\n",
    "    return q"
   ]
  },
  {
   "cell_type": "code",
   "execution_count": null,
   "metadata": {},
   "outputs": [],
   "source": [
    "x=np.arange(0,25,0.1)\n",
    "POvec=np.vectorize(q)\n",
    "y=POvec(x)\n",
    "\n",
    "plt.xlabel('Wind Velocity')\n",
    "plt.ylabel('Power')\n",
    "plt.plot(x,y)"
   ]
  },
  {
   "cell_type": "code",
   "execution_count": null,
   "metadata": {},
   "outputs": [],
   "source": [
    "wsr=windspeedreduction(distance,angle,angles,model)\n",
    "powout=power(wsr,velocities)\n",
    "#print(powout,np.shape(powout))"
   ]
  },
  {
   "cell_type": "code",
   "execution_count": null,
   "metadata": {},
   "outputs": [],
   "source": [
    "output=np.zeros((nturb)) \n",
    "output=np.tensordot(powout,wsp,2)\n",
    "print(output,np.shape(output),np.sum(output))"
   ]
  },
  {
   "cell_type": "code",
   "execution_count": null,
   "metadata": {},
   "outputs": [],
   "source": [
    "#Reference output:\n",
    "refpowout=power(np.ones((nturb,np.size(angles))),velocities)\n",
    "refoutput=np.zeros((nturb))\n",
    "refoutput=np.tensordot(refpowout,wsp,axes=2)\n",
    "print(refoutput,np.shape(refoutput),np.sum(refoutput))"
   ]
  },
  {
   "cell_type": "code",
   "execution_count": null,
   "metadata": {},
   "outputs": [],
   "source": [
    "dvel=0.1\n",
    "dang=0.1\n",
    "velocities=np.arange(Vc,Vf+dvel,dvel)\n",
    "angles=np.arange(0,360,dang)\n",
    "wsp=windspeedprobability(angles,velocities,dang,dvel)\n",
    "wsr=windspeedreduction(distance,angle,angles,model)\n",
    "powout=power(wsr,velocities)\n",
    "output=np.zeros((nturb)) \n",
    "output=np.tensordot(powout,wsp,2)\n",
    "print (dvel,dang,np.sum(output))\n",
    "fineout=output"
   ]
  },
  {
   "cell_type": "code",
   "execution_count": null,
   "metadata": {},
   "outputs": [],
   "source": [
    "velarray=np.array([1.5])\n",
    "angarray=np.array([5])\n",
    "rmserror=np.zeros((np.size(velarray),np.size(angarray)))\n",
    "i=0\n",
    "for dvel in velarray:\n",
    "    j=0\n",
    "    for dang in angarray:\n",
    "        velocities=np.arange(Vc,Vf+dvel,dvel)\n",
    "        angles=np.arange(0,360,dang)\n",
    "        wsp=windspeedprobability(angles,velocities,dang,dvel)\n",
    "        wsr=windspeedreduction(distance,angle,angles,model)\n",
    "        powout=power(wsr,velocities)\n",
    "        output=np.zeros((nturb)) \n",
    "        output=np.tensordot(powout,wsp,2)\n",
    "        rmserror[i,j]=np.sqrt(np.sum(np.square(output-fineout))/np.size(output))\n",
    "        print (dvel,dang,np.sum(output),rmserror[i,j])\n",
    "        j+=1\n",
    "    i+=1\n",
    "print(rmserror)"
   ]
  },
  {
   "cell_type": "code",
   "execution_count": null,
   "metadata": {},
   "outputs": [],
   "source": [
    "def geom_analysis(coords):\n",
    "    #Arrays for pairwise distances and angles\n",
    "    #Angle 0: x directıon. Angle pi/2: y directıon\n",
    "    nturb=np.size(coords,0)\n",
    "    distance=np.zeros((nturb,nturb))\n",
    "    angle=np.zeros((nturb,nturb))\n",
    "    for i in range(0,nturb):\n",
    "        distance[i,:]=np.sqrt(np.square(coords[i,0]-coords[:,0])+np.square(coords[i,1]-coords[:,1]))\n",
    "        angle[i,:]=np.arctan2(coords[:,1]-coords[i,1],coords[:,0]-coords[i,0])\n",
    "        distance[i,i]=1e10\n",
    "#Rotate angles so that north=0 and convert to degrees\n",
    "    angle=-np.rad2deg(angle)+270\n",
    "    return distance,angle"
   ]
  },
  {
   "cell_type": "code",
   "execution_count": null,
   "metadata": {},
   "outputs": [],
   "source": [
    "#I added this bit\n",
    "def Minimum_Spanning_Tree(distance):\n",
    "#    edges= np.zeros((0,3))\n",
    "    g=Graph(nturb)\n",
    "    for i in range(0,nturb):\n",
    "        for j in range(i+1,nturb):\n",
    "#            if distance[i,j]<1500:\n",
    "            g.addEdge(i,j,int(distance[i,j]*1000))\n",
    "#    for p in range(0,(edges.shape[1]-1)):\n",
    "#        if int(edges[p,2])<1500:\n",
    "#            g.addEdge(int(edges[p,0]),int(edges[p,1]),int(edges[p,2]))\n",
    "    MSTweight=g.boruvkaMST()\n",
    "#    print (MSTweight)\n",
    "    return MSTweight"
   ]
  },
  {
   "cell_type": "code",
   "execution_count": null,
   "metadata": {},
   "outputs": [],
   "source": [
    "def targetfunction(coord_flat):\n",
    "#from scipy.optimize import minimize\n",
    "    coords=np.reshape(coord_flat,(-1,2))\n",
    "    nturb=np.size(coords,0)\n",
    "#    print(coords)\n",
    "    distance,angle = geom_analysis(coords)\n",
    "    MSTweight=Minimum_Spanning_Tree(distance)###\n",
    "    CableCost=(MSTweight[0]/1000)*300###\n",
    "    coords_in = np.loadtxt('start_coords.txt')###\n",
    "    TurbineCost=(nturb)*3000000/1.2821###\n",
    "    MaintenanceCosts=(nturb)*2*1563720###\n",
    "    FixedCost=600000###\n",
    "    xmin = min(coords[:,0])###\n",
    "    ymin = min(coords[:,1])###\n",
    "    xmax = max(coords[:,0])###\n",
    "    ymax = max(coords[:,1])###\n",
    "    LandCost=((abs(xmin)+abs(xmax))*(abs(ymin)+abs(ymax)))*(17245/10000)###\n",
    "    TotalCost=CableCost+TurbineCost+LandCost+MaintenanceCosts+FixedCost###\n",
    "    penalty=0\n",
    "    wsr=windspeedreduction(distance,angle,angles,model)\n",
    "    powout=power(wsr,velocities)\n",
    "    output=np.tensordot(powout,wsp,2)\n",
    "    \n",
    "    print(np.min(distance),np.sum(output),TotalCost,(TotalCost/(np.sum(output))))###\n",
    "\n",
    "    #if(np.min(distance)<200): penalty=10000*nturb*(np.min(distance)-200)**2\n",
    "    return (TotalCost/(np.sum(output)))#+penalty"
   ]
  },
  {
   "cell_type": "code",
   "execution_count": null,
   "metadata": {},
   "outputs": [],
   "source": [
    "flat_coords=coords.flatten()\n",
    "bounds=Bounds(np.tile([-2728.5, -1952.],nturb), np.tile([2728.5, 1952.],nturb))\n",
    "dvel=1.5\n",
    "dang=5\n",
    "velocities=np.arange(Vc,Vf+dvel,dvel)\n",
    "angles=np.arange(0,360,dang)\n",
    "#MSTweight=Minimum_Spanning_Tree(distance)\n",
    "res = minimize(targetfunction, flat_coords, method='L-BFGS-B', jac=False, hess=None, options={'disp': 2, 'eps': 50}, bounds=bounds)"
   ]
  },
  {
   "cell_type": "code",
   "execution_count": null,
   "metadata": {},
   "outputs": [],
   "source": [
    "#print(res.x)\n",
    "#print(res.x-flat_coords)"
   ]
  },
  {
   "cell_type": "code",
   "execution_count": null,
   "metadata": {},
   "outputs": [],
   "source": [
    "newcoords=np.reshape(res.x,(-1,2))\n",
    "#print(newcoords)"
   ]
  },
  {
   "cell_type": "code",
   "execution_count": null,
   "metadata": {},
   "outputs": [],
   "source": [
    "plt.scatter(newcoords[:,0],newcoords[:,1], color='red')\n",
    "plt.scatter(rotate(0,coords)[:,0],rotate(0,coords)[:,1])\n",
    "\n",
    "plt.legend([\"Optimised\", \"Original\"],bbox_to_anchor=(0., 1.02, 1., .102), loc=3,\n",
    "           ncol=2, mode=\"expand\", borderaxespad=0.)"
   ]
  },
  {
   "cell_type": "code",
   "execution_count": null,
   "metadata": {},
   "outputs": [],
   "source": [
    "newcoords_unconstrained=newcoords"
   ]
  },
  {
   "cell_type": "code",
   "execution_count": null,
   "metadata": {},
   "outputs": [],
   "source": [
    "plt.scatter(rotate(0,coords)[:,0],rotate(0,coords)[:,1])"
   ]
  },
  {
   "cell_type": "code",
   "execution_count": null,
   "metadata": {},
   "outputs": [],
   "source": [
    "plt.scatter(newcoords[:,0],newcoords[:,1], color='red')"
   ]
  },
  {
   "cell_type": "code",
   "execution_count": null,
   "metadata": {},
   "outputs": [],
   "source": [
    "54123077.32294567-53477710.87598161"
   ]
  },
  {
   "cell_type": "code",
   "execution_count": null,
   "metadata": {},
   "outputs": [],
   "source": [
    "((55751104.56647739-54166276.11371625)/55751104.56647739)*100"
   ]
  },
  {
   "cell_type": "code",
   "execution_count": null,
   "metadata": {},
   "outputs": [],
   "source": [
    "MSTweight=Minimum_Spanning_Tree(geom_analysis(newcoords)[0])"
   ]
  },
  {
   "cell_type": "code",
   "execution_count": null,
   "metadata": {},
   "outputs": [],
   "source": [
    "MSTweight=Minimum_Spanning_Tree(geom_analysis(newcoords)[0])\n",
    "print (MSTweight)\n",
    "links=MSTweight[1]\n",
    "print(links)"
   ]
  },
  {
   "cell_type": "code",
   "execution_count": null,
   "metadata": {},
   "outputs": [],
   "source": [
    "plt.scatter(newcoords[:,0],newcoords[:,1])\n",
    "plt.axis('equal')\n",
    "for i in links:\n",
    "    plt.plot(newcoords[i[:],0],newcoords[i[:],1])"
   ]
  },
  {
   "cell_type": "code",
   "execution_count": null,
   "metadata": {},
   "outputs": [],
   "source": [
    "print(MSTweight[0])"
   ]
  },
  {
   "cell_type": "code",
   "execution_count": null,
   "metadata": {},
   "outputs": [],
   "source": [
    "coords_in = np.loadtxt('start_coords.txt')###\n",
    "print(int(np.shape(coords_in[:,0])[0]))"
   ]
  },
  {
   "cell_type": "code",
   "execution_count": null,
   "metadata": {},
   "outputs": [],
   "source": [
    "MSTweight=Minimum_Spanning_Tree(geom_analysis(coords)[0])\n",
    "links=MSTweight[1]\n",
    "plt.scatter(coords[:,0],coords[:,1])\n",
    "for i in links:\n",
    "    plt.plot(coords[i[:],0],coords[i[:],1])#ignore this one"
   ]
  },
  {
   "cell_type": "code",
   "execution_count": null,
   "metadata": {},
   "outputs": [],
   "source": [
    "coords=np.loadtxt('start_coords.txt')\n",
    "nturb=np.size(coords,0)\n",
    "distance,angle = geom_analysis(coords)\n",
    "MSTweight=Minimum_Spanning_Tree(distance)###\n",
    "CableCost=(MSTweight[0]/1000)*300###\n",
    "TurbineCost=(nturb)*3000000/1.2821###\n",
    "MaintenanceCosts=(nturb)*2*1563720###\n",
    "FixedCost=600000###\n",
    "xmin = min(coords[:,0])###\n",
    "ymin = min(coords[:,1])###\n",
    "xmax = max(coords[:,0])###\n",
    "ymax = max(coords[:,1])###\n",
    "LandCost=((abs(xmin)+abs(xmax))*(abs(ymin)+abs(ymax)))*(17245/10000)###\n",
    "TotalCost=CableCost+TurbineCost+LandCost+MaintenanceCosts+FixedCost###\n",
    "penalty=0\n",
    "wsr=windspeedreduction(distance,angle,angles,model)\n",
    "powout=power(wsr,velocities)\n",
    "output=np.tensordot(powout,wsp,2)\n",
    "\n",
    "print(np.min(distance),np.sum(output),TotalCost,(TotalCost/(np.sum(output))))###"
   ]
  },
  {
   "cell_type": "code",
   "execution_count": null,
   "metadata": {},
   "outputs": [],
   "source": []
  }
 ],
 "metadata": {
  "kernelspec": {
   "display_name": "Python 3",
   "language": "python",
   "name": "python3"
  },
  "language_info": {
   "codemirror_mode": {
    "name": "ipython",
    "version": 3
   },
   "file_extension": ".py",
   "mimetype": "text/x-python",
   "name": "python",
   "nbconvert_exporter": "python",
   "pygments_lexer": "ipython3",
   "version": "3.8.3"
  }
 },
 "nbformat": 4,
 "nbformat_minor": 2
}
